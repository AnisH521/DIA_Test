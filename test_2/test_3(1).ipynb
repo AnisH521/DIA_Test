{
  "nbformat": 4,
  "nbformat_minor": 0,
  "metadata": {
    "colab": {
      "name": "test_3.ipynb",
      "provenance": [],
      "toc_visible": true
    },
    "kernelspec": {
      "name": "python3",
      "display_name": "Python 3"
    },
    "language_info": {
      "name": "python"
    },
    "accelerator": "GPU"
  },
  "cells": [
    {
      "cell_type": "markdown",
      "source": [
        "# Installing easyocr"
      ],
      "metadata": {
        "id": "ETqytXBwt7Re"
      }
    },
    {
      "cell_type": "code",
      "execution_count": 23,
      "metadata": {
        "colab": {
          "base_uri": "https://localhost:8080/"
        },
        "id": "MXbaHO9ZYoiX",
        "outputId": "5ecf91f2-1a48-4467-8989-a5c037341b4a"
      },
      "outputs": [
        {
          "output_type": "stream",
          "name": "stdout",
          "text": [
            "Requirement already satisfied: easyocr in /usr/local/lib/python3.7/dist-packages (1.4.2)\n",
            "Requirement already satisfied: Pillow in /usr/local/lib/python3.7/dist-packages (from easyocr) (7.1.2)\n",
            "Requirement already satisfied: torch in /usr/local/lib/python3.7/dist-packages (from easyocr) (1.11.0+cu113)\n",
            "Requirement already satisfied: numpy in /usr/local/lib/python3.7/dist-packages (from easyocr) (1.21.6)\n",
            "Requirement already satisfied: python-bidi in /usr/local/lib/python3.7/dist-packages (from easyocr) (0.4.2)\n",
            "Requirement already satisfied: scipy in /usr/local/lib/python3.7/dist-packages (from easyocr) (1.4.1)\n",
            "Requirement already satisfied: torchvision>=0.5 in /usr/local/lib/python3.7/dist-packages (from easyocr) (0.12.0+cu113)\n",
            "Requirement already satisfied: PyYAML in /usr/local/lib/python3.7/dist-packages (from easyocr) (3.13)\n",
            "Requirement already satisfied: scikit-image in /usr/local/lib/python3.7/dist-packages (from easyocr) (0.18.3)\n",
            "Requirement already satisfied: opencv-python-headless<=4.5.4.60 in /usr/local/lib/python3.7/dist-packages (from easyocr) (4.5.4.60)\n",
            "Requirement already satisfied: requests in /usr/local/lib/python3.7/dist-packages (from torchvision>=0.5->easyocr) (2.23.0)\n",
            "Requirement already satisfied: typing-extensions in /usr/local/lib/python3.7/dist-packages (from torchvision>=0.5->easyocr) (4.2.0)\n",
            "Requirement already satisfied: six in /usr/local/lib/python3.7/dist-packages (from python-bidi->easyocr) (1.15.0)\n",
            "Requirement already satisfied: urllib3!=1.25.0,!=1.25.1,<1.26,>=1.21.1 in /usr/local/lib/python3.7/dist-packages (from requests->torchvision>=0.5->easyocr) (1.24.3)\n",
            "Requirement already satisfied: chardet<4,>=3.0.2 in /usr/local/lib/python3.7/dist-packages (from requests->torchvision>=0.5->easyocr) (3.0.4)\n",
            "Requirement already satisfied: certifi>=2017.4.17 in /usr/local/lib/python3.7/dist-packages (from requests->torchvision>=0.5->easyocr) (2021.10.8)\n",
            "Requirement already satisfied: idna<3,>=2.5 in /usr/local/lib/python3.7/dist-packages (from requests->torchvision>=0.5->easyocr) (2.10)\n",
            "Requirement already satisfied: imageio>=2.3.0 in /usr/local/lib/python3.7/dist-packages (from scikit-image->easyocr) (2.4.1)\n",
            "Requirement already satisfied: networkx>=2.0 in /usr/local/lib/python3.7/dist-packages (from scikit-image->easyocr) (2.6.3)\n",
            "Requirement already satisfied: matplotlib!=3.0.0,>=2.0.0 in /usr/local/lib/python3.7/dist-packages (from scikit-image->easyocr) (3.2.2)\n",
            "Requirement already satisfied: PyWavelets>=1.1.1 in /usr/local/lib/python3.7/dist-packages (from scikit-image->easyocr) (1.3.0)\n",
            "Requirement already satisfied: tifffile>=2019.7.26 in /usr/local/lib/python3.7/dist-packages (from scikit-image->easyocr) (2021.11.2)\n",
            "Requirement already satisfied: python-dateutil>=2.1 in /usr/local/lib/python3.7/dist-packages (from matplotlib!=3.0.0,>=2.0.0->scikit-image->easyocr) (2.8.2)\n",
            "Requirement already satisfied: kiwisolver>=1.0.1 in /usr/local/lib/python3.7/dist-packages (from matplotlib!=3.0.0,>=2.0.0->scikit-image->easyocr) (1.4.2)\n",
            "Requirement already satisfied: pyparsing!=2.0.4,!=2.1.2,!=2.1.6,>=2.0.1 in /usr/local/lib/python3.7/dist-packages (from matplotlib!=3.0.0,>=2.0.0->scikit-image->easyocr) (3.0.8)\n",
            "Requirement already satisfied: cycler>=0.10 in /usr/local/lib/python3.7/dist-packages (from matplotlib!=3.0.0,>=2.0.0->scikit-image->easyocr) (0.11.0)\n"
          ]
        }
      ],
      "source": [
        "!pip install easyocr"
      ]
    },
    {
      "cell_type": "markdown",
      "source": [
        "# Importing Necessary Library"
      ],
      "metadata": {
        "id": "m4tTMZQwenWI"
      }
    },
    {
      "cell_type": "code",
      "source": [
        "import easyocr"
      ],
      "metadata": {
        "id": "jcwsjmpBaG0j"
      },
      "execution_count": 24,
      "outputs": []
    },
    {
      "cell_type": "markdown",
      "source": [
        "# setting up path and reading the text using easyocr"
      ],
      "metadata": {
        "id": "d4kuzdVctjSG"
      }
    },
    {
      "cell_type": "code",
      "source": [
        "path = '/content/drive/MyDrive/test_data/418S3TgVd-L.jpg'\n",
        "reader = easyocr.Reader(['en'], gpu = True)\n",
        "readtext = reader.readtext(path, add_margin = 0.45, width_ths = 0.5, decoder = 'beamsearch')\n",
        "readtext"
      ],
      "metadata": {
        "colab": {
          "base_uri": "https://localhost:8080/"
        },
        "id": "EF5olZWrakXJ",
        "outputId": "721477f8-950a-473f-be48-057fbc335df8"
      },
      "execution_count": 28,
      "outputs": [
        {
          "output_type": "execute_result",
          "data": {
            "text/plain": [
              "[([[128, 32], [160, 32], [160, 42], [128, 42]], 'Invoice', 0.5409178018290985),\n",
              " ([[75, 41], [215, 41], [215, 63], [75, 63]],\n",
              "  'FAMILY REStAURANT',\n",
              "  0.9952055830577735),\n",
              " ([[45, 77], [77, 77], [77, 99], [45, 99]], 'Vijay ^', 0.8723709134035148),\n",
              " ([[98, 78], [246, 78], [246, 96], [98, 96]],\n",
              "  '~Near by C21 Mall Indore Madhya',\n",
              "  0.644170687906533),\n",
              " ([[111, 91], [175, 91], [175, 105], [111, 105]],\n",
              "  'Pracesh India,',\n",
              "  0.9289236119944896),\n",
              " ([[88, 108], [140, 108], [140, 126], [88, 126]],\n",
              "  'Mobile No:',\n",
              "  0.7689150830730054),\n",
              " ([[140, 108], [202, 108], [202, 126], [140, 126]],\n",
              "  '9876543210',\n",
              "  0.993732371394939),\n",
              " ([[19, 129], [69, 129], [69, 143], [19, 143]],\n",
              "  'Invoice No',\n",
              "  0.2700466376650535),\n",
              " ([[156, 128], [206, 128], [206, 146], [156, 146]],\n",
              "  'Date May ~',\n",
              "  0.6639884601175642),\n",
              " ([[214, 128], [246, 128], [246, 146], [214, 146]],\n",
              "  \"'2019\",\n",
              "  0.47878680190046663),\n",
              " ([[18, 150], [80, 150], [80, 168], [18, 168]],\n",
              "  'Item Name',\n",
              "  0.9943517086146499),\n",
              " ([[146, 148], [180, 148], [180, 174], [146, 174]],\n",
              "  'Qty: _',\n",
              "  0.8474423129680729),\n",
              " ([[182, 150], [214, 150], [214, 168], [182, 168]],\n",
              "  'Rate _',\n",
              "  0.3759248175963664),\n",
              " ([[225, 151], [269, 151], [269, 165], [225, 165]],\n",
              "  'Amount',\n",
              "  0.9979858430882786),\n",
              " ([[18, 168], [54, 168], [54, 186], [18, 186]], 'Pizza', 0.8363097933048169),\n",
              " ([[178, 168], [216, 168], [216, 186], [178, 186]],\n",
              "  '430.0',\n",
              "  0.4429891392098471),\n",
              " ([[234, 168], [272, 168], [272, 186], [234, 186]],\n",
              "  '430.0',\n",
              "  0.9987709089311411),\n",
              " ([[17, 181], [57, 181], [57, 203], [17, 203]], 'Pasta', 0.9999821937682789),\n",
              " ([[177, 181], [217, 181], [217, 203], [177, 203]],\n",
              "  '220.0',\n",
              "  0.9987688468072579),\n",
              " ([[233, 181], [273, 181], [273, 203], [233, 203]],\n",
              "  '440.0',\n",
              "  0.9979812598326494),\n",
              " ([[18, 198], [88, 198], [88, 216], [18, 216]],\n",
              "  'Dal Makhani -',\n",
              "  0.7618863118209805),\n",
              " ([[88, 198], [116, 198], [116, 216], [88, 216]], 'Full', 0.9907811880111694),\n",
              " ([[180, 198], [216, 198], [216, 216], [180, 216]],\n",
              "  '180.0',\n",
              "  0.998240360738334),\n",
              " ([[234, 198], [272, 198], [272, 216], [234, 216]],\n",
              "  '180.0',\n",
              "  0.8829766233727744),\n",
              " ([[123, 221], [169, 221], [169, 235], [123, 235]],\n",
              "  'Additonal',\n",
              "  0.7988826989252305),\n",
              " ([[167, 221], [213, 221], [213, 235], [167, 235]],\n",
              "  'Discount',\n",
              "  0.9893091225103875),\n",
              " ([[165, 233], [191, 233], [191, 247], [165, 247]],\n",
              "  'Total',\n",
              "  0.9994854701166818),\n",
              " ([[187, 231], [217, 231], [217, 253], [187, 253]],\n",
              "  'IOty;',\n",
              "  0.24298479411613538),\n",
              " ([[115, 245], [141, 245], [141, 259], [115, 259]],\n",
              "  'Total',\n",
              "  0.9944507446115788),\n",
              " ([[141, 245], [213, 245], [213, 259], [141, 259]],\n",
              "  'Payable Value:',\n",
              "  0.983309456702406),\n",
              " ([[225, 245], [267, 245], [267, 259], [225, 259]],\n",
              "  '1.050.00',\n",
              "  0.9816246822118341),\n",
              " ([[93, 261], [139, 261], [139, 275], [93, 275]],\n",
              "  'Thank You,',\n",
              "  0.5165972400761086),\n",
              " ([[137, 263], [197, 263], [197, 277], [137, 277]],\n",
              "  'Visit ag*inli!',\n",
              "  0.14814452697512495),\n",
              " ([[66.7990780016776, 77.15889360201312],\n",
              "   [104.90889925295141, 83.0498904671707],\n",
              "   [102.2009219983224, 96.84110639798688],\n",
              "   [64.09110074704859, 90.9501095328293]],\n",
              "  'yNegn |',\n",
              "  0.07219237890736267),\n",
              " ([[48.7990780016776, 167.1588936020131],\n",
              "   [82.88093530091976, 172.91534771090673],\n",
              "   [80.2009219983224, 186.8411063979869],\n",
              "   [46.11906469908023, 181.08465228909327]],\n",
              "  'Large',\n",
              "  0.7674950445362823)]"
            ]
          },
          "metadata": {},
          "execution_count": 28
        }
      ]
    }
  ]
}