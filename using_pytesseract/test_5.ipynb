{
 "cells": [
  {
   "cell_type": "code",
   "execution_count": null,
   "id": "4e8cd11a",
   "metadata": {},
   "outputs": [],
   "source": [
    "#Installing Pytesseract"
   ]
  },
  {
   "cell_type": "code",
   "execution_count": 8,
   "id": "07fbf99a",
   "metadata": {},
   "outputs": [
    {
     "name": "stdout",
     "output_type": "stream",
     "text": [
      "Requirement already satisfied: pytesseract in ./anaconda3/lib/python3.9/site-packages (0.3.9)\n",
      "Requirement already satisfied: packaging>=21.3 in ./anaconda3/lib/python3.9/site-packages (from pytesseract) (21.3)\n",
      "Requirement already satisfied: Pillow>=8.0.0 in ./anaconda3/lib/python3.9/site-packages (from pytesseract) (8.4.0)\n",
      "Requirement already satisfied: pyparsing!=3.0.5,>=2.0.2 in ./anaconda3/lib/python3.9/site-packages (from packaging>=21.3->pytesseract) (3.0.4)\n"
     ]
    }
   ],
   "source": [
    "!pip install pytesseract"
   ]
  },
  {
   "cell_type": "code",
   "execution_count": null,
   "id": "b5cf8661",
   "metadata": {},
   "outputs": [],
   "source": [
    "#Importing Different Libraries"
   ]
  },
  {
   "cell_type": "code",
   "execution_count": 9,
   "id": "ed99ea72",
   "metadata": {},
   "outputs": [],
   "source": [
    "import PIL\n",
    "import pytesseract"
   ]
  },
  {
   "cell_type": "code",
   "execution_count": null,
   "id": "4f10beb7",
   "metadata": {},
   "outputs": [],
   "source": [
    "#Converting the image to text"
   ]
  },
  {
   "cell_type": "code",
   "execution_count": 10,
   "id": "d316db54",
   "metadata": {},
   "outputs": [
    {
     "name": "stdout",
     "output_type": "stream",
     "text": [
      "FAMILY REStAURANT\n",
      "\n",
      "Viay Nagar, Nearby C21 Mal. indore Madhya\n",
      "radeeh Ind,\n",
      "\n",
      "Mobile No: 9876543210\n",
      "\n",
      "Invoice No-40 Date-may 11,2019,\n",
      "\n",
      "tem Name Qty. Rate Amount\n",
      "\n",
      "Pazza Large 14300 430.0\n",
      "Pasta 2 2200 4400\n",
      "\n",
      "Dal Makhani - Full 1 180.0 180.0\n",
      "\n",
      "‘Adaional Discount 00\n",
      "Total Qty: 40\n",
      "“Total Payable Value: 1,050.00\n",
      "\n",
      "‘Tank You, Ve agit\n",
      "\n",
      " \n",
      "\f",
      "\n"
     ]
    }
   ],
   "source": [
    "path = '/home/anish/Documents/data_test/418S3TgVd-L.png'\n",
    "\n",
    "def conversion(file):\n",
    "    \n",
    "    pic = PIL.Image.open(file)#open method used to open image file\n",
    "    \n",
    "    pic.show()#view the image in any image viewer\n",
    "    \n",
    "    converted_text = pytesseract.image_to_string(pic)#converting the image into string\n",
    "    \n",
    "    return converted_text#returning the text extracted from image\n",
    "\n",
    "print(conversion(path))"
   ]
  }
 ],
 "metadata": {
  "kernelspec": {
   "display_name": "Python 3 (ipykernel)",
   "language": "python",
   "name": "python3"
  },
  "language_info": {
   "codemirror_mode": {
    "name": "ipython",
    "version": 3
   },
   "file_extension": ".py",
   "mimetype": "text/x-python",
   "name": "python",
   "nbconvert_exporter": "python",
   "pygments_lexer": "ipython3",
   "version": "3.9.7"
  }
 },
 "nbformat": 4,
 "nbformat_minor": 5
}
