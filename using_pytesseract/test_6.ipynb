{
 "cells": [
  {
   "cell_type": "code",
   "execution_count": null,
   "id": "f426be4c",
   "metadata": {},
   "outputs": [],
   "source": [
    "#Installing Pytesseract and opencv"
   ]
  },
  {
   "cell_type": "code",
   "execution_count": 2,
   "id": "3a4dc3c2",
   "metadata": {},
   "outputs": [
    {
     "name": "stdout",
     "output_type": "stream",
     "text": [
      "Requirement already satisfied: opencv-python in ./anaconda3/lib/python3.9/site-packages (4.5.5.64)\n",
      "Requirement already satisfied: numpy>=1.17.3 in ./anaconda3/lib/python3.9/site-packages (from opencv-python) (1.20.3)\n",
      "Requirement already satisfied: pytesseract in ./anaconda3/lib/python3.9/site-packages (0.3.9)\n",
      "Requirement already satisfied: Pillow>=8.0.0 in ./anaconda3/lib/python3.9/site-packages (from pytesseract) (8.4.0)\n",
      "Requirement already satisfied: packaging>=21.3 in ./anaconda3/lib/python3.9/site-packages (from pytesseract) (21.3)\n",
      "Requirement already satisfied: pyparsing!=3.0.5,>=2.0.2 in ./anaconda3/lib/python3.9/site-packages (from packaging>=21.3->pytesseract) (3.0.4)\n"
     ]
    }
   ],
   "source": [
    "!pip install opencv-python\n",
    "!pip install pytesseract"
   ]
  },
  {
   "cell_type": "code",
   "execution_count": null,
   "id": "32f58d5d",
   "metadata": {},
   "outputs": [],
   "source": [
    "#Importing Different Libraries"
   ]
  },
  {
   "cell_type": "code",
   "execution_count": 1,
   "id": "3d73ca16",
   "metadata": {},
   "outputs": [],
   "source": [
    "import PIL\n",
    "import cv2\n",
    "import pytesseract"
   ]
  },
  {
   "cell_type": "code",
   "execution_count": null,
   "id": "7c839d86",
   "metadata": {},
   "outputs": [],
   "source": [
    "#Converting the image to text"
   ]
  },
  {
   "cell_type": "code",
   "execution_count": 6,
   "id": "c61fea5e",
   "metadata": {},
   "outputs": [
    {
     "name": "stdout",
     "output_type": "stream",
     "text": [
      "INVOICE\n",
      "\n",
      "East Repair Inc.\n",
      "\n",
      "1912 Harvest Lane\n",
      "New York, NY 12210\n",
      "\n",
      "BILL TO\n",
      "\n",
      "John Smith\n",
      "\n",
      "2 Court Square\n",
      "New York, NY 12210\n",
      "\n",
      "SHIP TO\n",
      "\n",
      "John Smith\n",
      "\n",
      "3787 Pineview Drive\n",
      "Cambridge, MA 12210\n",
      "\n",
      "DESCRIPTION\n",
      "\n",
      "Front and rear brake cables\n",
      "\n",
      "New set of pedal arms\n",
      "\n",
      "Labor 3hrs\n",
      "\n",
      "Shank you\n",
      "\n",
      "INVOICE #\n",
      "\n",
      "INVOICE DATE\n",
      "\n",
      "P.0.#\n",
      "DUE DATE\n",
      "\n",
      "UNIT PRICE\n",
      "100.00\n",
      "15.00\n",
      "\n",
      "5.00\n",
      "\n",
      "Subtotal\n",
      "\n",
      "Sales Tax 6.25%\n",
      "\n",
      "TOTAL\n",
      "\n",
      "TERMS & CONDITIONS\n",
      "\n",
      "Payment is due within 15 days\n",
      "\n",
      "US-001\n",
      "11/02/2019\n",
      "2312/2019\n",
      "26/02/2019\n",
      "\n",
      "AMOUNT\n",
      "100.00\n",
      "30.00\n",
      "\n",
      "15.00\n",
      "\n",
      "145.00\n",
      "\n",
      "9.06\n",
      "\n",
      "$154.06\n",
      "\n",
      "Smith\n",
      "\n",
      "Please make checks payable to: East Repair Inc.\n",
      "\f",
      "\n"
     ]
    }
   ],
   "source": [
    "path = '/home/anish/Documents/data_test/invoice-template-us-neat-750px.png'\n",
    "\n",
    "def conversion(file):\n",
    "    \n",
    "    pic = cv2.imread(file)#the method is used to load image as Numpy array\n",
    "    \n",
    "    pic = cv2.resize(pic, None, fx=2, fy=2)#resizing the image for better string conversion\n",
    "    pic = cv2.cvtColor(pic, cv2.COLOR_BGR2GRAY)#cvtColor method for channel conversion\n",
    "    \n",
    "    converted_text = pytesseract.image_to_string(pic, lang='eng')#converting the image into string\n",
    "    \n",
    "    return converted_text#returning the text extracted from image\n",
    "\n",
    "print(conversion(path))"
   ]
  }
 ],
 "metadata": {
  "kernelspec": {
   "display_name": "Python 3 (ipykernel)",
   "language": "python",
   "name": "python3"
  },
  "language_info": {
   "codemirror_mode": {
    "name": "ipython",
    "version": 3
   },
   "file_extension": ".py",
   "mimetype": "text/x-python",
   "name": "python",
   "nbconvert_exporter": "python",
   "pygments_lexer": "ipython3",
   "version": "3.9.7"
  }
 },
 "nbformat": 4,
 "nbformat_minor": 5
}
